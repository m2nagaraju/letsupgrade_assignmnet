{
  "nbformat": 4,
  "nbformat_minor": 0,
  "metadata": {
    "colab": {
      "provenance": [],
      "toc_visible": true
    },
    "kernelspec": {
      "name": "python3",
      "display_name": "Python 3"
    },
    "language_info": {
      "name": "python"
    }
  },
  "cells": [
    {
      "cell_type": "code",
      "source": [
        "num = int(input(\"Enter a number: \"))\n",
        "\n",
        "if num > 1:\n",
        "  for i in range(2,num):\n",
        "    if (num % i) == 0:\n",
        "      print(num,\"is not a prime number\")\n",
        "      break\n",
        "    else:\n",
        "      print(num,\"is a prime number\")\n",
        "\n",
        "else:\n",
        "  print(num,\"is not a prime number\")"
      ],
      "metadata": {
        "colab": {
          "base_uri": "https://localhost:8080/"
        },
        "id": "jJE8S8XpfPFQ",
        "outputId": "c539e69b-4bfa-4b3a-b3d5-4bdffc7558ea"
      },
      "execution_count": 8,
      "outputs": [
        {
          "output_type": "stream",
          "name": "stdout",
          "text": [
            "Enter a number: 24\n",
            "24 is not a prime number\n"
          ]
        }
      ]
    }
  ]
}