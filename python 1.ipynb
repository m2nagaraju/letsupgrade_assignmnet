{
  "nbformat": 4,
  "nbformat_minor": 0,
  "metadata": {
    "colab": {
      "provenance": [],
      "toc_visible": true
    },
    "kernelspec": {
      "name": "python3",
      "display_name": "Python 3"
    },
    "language_info": {
      "name": "python"
    }
  },
  "cells": [
    {
      "cell_type": "code",
      "source": [
        "num = int(input())\n",
        "if num % 2 == 0:\n",
        "  print(str(num) + \":even\")\n",
        "else:\n",
        "  print(str(num) + \":odd\")"
      ],
      "metadata": {
        "id": "nm27IaMZSbnG"
      },
      "execution_count": null,
      "outputs": []
    }
  ]
}